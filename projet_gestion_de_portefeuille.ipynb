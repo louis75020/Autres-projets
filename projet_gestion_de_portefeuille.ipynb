{
 "cells": [
  {
   "cell_type": "markdown",
   "metadata": {},
   "source": [
    "# Projet Gestion de Portefeuille"
   ]
  },
  {
   "cell_type": "markdown",
   "metadata": {},
   "source": [
    "# Part1: Gaussian framework parametric method"
   ]
  },
  {
   "cell_type": "code",
   "execution_count": null,
   "metadata": {
    "collapsed": true
   },
   "outputs": [],
   "source": []
  },
  {
   "cell_type": "code",
   "execution_count": 34,
   "metadata": {},
   "outputs": [
    {
     "name": "stdout",
     "output_type": "stream",
     "text": [
      "Populating the interactive namespace from numpy and matplotlib\n"
     ]
    },
    {
     "name": "stderr",
     "output_type": "stream",
     "text": [
      "C:\\Users\\louis\\Anaconda3\\lib\\site-packages\\IPython\\core\\magics\\pylab.py:160: UserWarning: pylab import has clobbered these variables: ['norm']\n",
      "`%matplotlib` prevents importing * from pylab and numpy\n",
      "  \"\\n`%matplotlib` prevents importing * from pylab and numpy\"\n"
     ]
    }
   ],
   "source": [
    "#imports\n",
    "\n",
    "#Imports\n",
    "\n",
    "%pylab inline\n",
    "\n",
    "import pandas as pd\n",
    "\n",
    "from scipy.stats import norm\n",
    "\n",
    "import statsmodels.api as sm\n",
    "\n",
    "from scipy import stats\n"
   ]
  },
  {
   "cell_type": "markdown",
   "metadata": {},
   "source": [
    "## Data importation and visualization"
   ]
  },
  {
   "cell_type": "code",
   "execution_count": 7,
   "metadata": {},
   "outputs": [
    {
     "data": {
      "text/html": [
       "<div>\n",
       "<style>\n",
       "    .dataframe thead tr:only-child th {\n",
       "        text-align: right;\n",
       "    }\n",
       "\n",
       "    .dataframe thead th {\n",
       "        text-align: left;\n",
       "    }\n",
       "\n",
       "    .dataframe tbody tr th {\n",
       "        vertical-align: top;\n",
       "    }\n",
       "</style>\n",
       "<table border=\"1\" class=\"dataframe\">\n",
       "  <thead>\n",
       "    <tr style=\"text-align: right;\">\n",
       "      <th></th>\n",
       "      <th>Date</th>\n",
       "      <th>DPW.DE</th>\n",
       "      <th>ALV.DE</th>\n",
       "      <th>BMW.DE</th>\n",
       "      <th>BAS.DE</th>\n",
       "      <th>FME.DE</th>\n",
       "    </tr>\n",
       "  </thead>\n",
       "  <tbody>\n",
       "    <tr>\n",
       "      <th>250</th>\n",
       "      <td>2017-12-21</td>\n",
       "      <td>40.705002</td>\n",
       "      <td>196.250000</td>\n",
       "      <td>87.839996</td>\n",
       "      <td>93.690002</td>\n",
       "      <td>87.410004</td>\n",
       "    </tr>\n",
       "    <tr>\n",
       "      <th>251</th>\n",
       "      <td>2017-12-22</td>\n",
       "      <td>40.494999</td>\n",
       "      <td>195.250000</td>\n",
       "      <td>87.519997</td>\n",
       "      <td>93.510002</td>\n",
       "      <td>88.230003</td>\n",
       "    </tr>\n",
       "    <tr>\n",
       "      <th>252</th>\n",
       "      <td>2017-12-27</td>\n",
       "      <td>40.610001</td>\n",
       "      <td>194.100006</td>\n",
       "      <td>87.260002</td>\n",
       "      <td>93.589996</td>\n",
       "      <td>88.389999</td>\n",
       "    </tr>\n",
       "    <tr>\n",
       "      <th>253</th>\n",
       "      <td>2017-12-28</td>\n",
       "      <td>40.134998</td>\n",
       "      <td>193.250000</td>\n",
       "      <td>87.139999</td>\n",
       "      <td>92.779999</td>\n",
       "      <td>88.169998</td>\n",
       "    </tr>\n",
       "    <tr>\n",
       "      <th>254</th>\n",
       "      <td>2017-12-29</td>\n",
       "      <td>39.750000</td>\n",
       "      <td>191.500000</td>\n",
       "      <td>86.830002</td>\n",
       "      <td>91.739998</td>\n",
       "      <td>87.779999</td>\n",
       "    </tr>\n",
       "  </tbody>\n",
       "</table>\n",
       "</div>"
      ],
      "text/plain": [
       "           Date     DPW.DE      ALV.DE     BMW.DE     BAS.DE     FME.DE\n",
       "250  2017-12-21  40.705002  196.250000  87.839996  93.690002  87.410004\n",
       "251  2017-12-22  40.494999  195.250000  87.519997  93.510002  88.230003\n",
       "252  2017-12-27  40.610001  194.100006  87.260002  93.589996  88.389999\n",
       "253  2017-12-28  40.134998  193.250000  87.139999  92.779999  88.169998\n",
       "254  2017-12-29  39.750000  191.500000  86.830002  91.739998  87.779999"
      ]
     },
     "execution_count": 7,
     "metadata": {},
     "output_type": "execute_result"
    }
   ],
   "source": [
    "#Datasets\n",
    "\n",
    "stocks5=pd.read_csv('data_TP_session2.csv')\n",
    "\n",
    "#Verification\n",
    "\n",
    "#print(dax30[1:10][1:])\n",
    "stocks5.tail()\n",
    "#looks working"
   ]
  },
  {
   "cell_type": "markdown",
   "metadata": {},
   "source": [
    "## Daily Returns"
   ]
  },
  {
   "cell_type": "code",
   "execution_count": 68,
   "metadata": {},
   "outputs": [
    {
     "name": "stdout",
     "output_type": "stream",
     "text": [
      "[ 0.00084514 -0.00141051  0.00247986  0.00050226]\n"
     ]
    },
    {
     "data": {
      "text/plain": [
       "Text(0,0.5,'daily returns')"
      ]
     },
     "execution_count": 68,
     "metadata": {},
     "output_type": "execute_result"
    },
    {
     "data": {
      "image/png": "[encoded data removed]",
      "text/plain": [
       "<matplotlib.figure.Figure at 0x1c4431474a8>"
      ]
     },
     "metadata": {},
     "output_type": "display_data"
    }
   ],
   "source": [
    "daily_returns=[]#the vector of the portfolio\n",
    "\n",
    "portfolio=['DPW.DE','ALV.DE','BMW.DE','BAS.DE','FME.DE'] #names of the columns\n",
    "\n",
    "for e in portfolio:\n",
    "    daily_returns.append(stocks5[e].pct_change()) #calculation of the daily returns\n",
    "    \n",
    "pi=array([1/5,1/5,1/5,1/5,1/5]) \n",
    "d_return=dot(pi,daily_returns)\n",
    "print(d_return[1:5]) #verification\n",
    "\n",
    "#Plot of the daily returns according to dates\n",
    "plot(d_return,'b')\n",
    "plot(d_return,'r.')\n",
    "grid(True)\n",
    "xlabel('dates')\n",
    "ylabel('daily returns')"
   ]
  },
  {
   "cell_type": "markdown",
   "metadata": {},
   "source": [
    "## Graphical tests for the normality"
   ]
  },
  {
   "cell_type": "markdown",
   "metadata": {},
   "source": [
    "### Histogram fitting with a normal density"
   ]
  },
  {
   "cell_type": "code",
   "execution_count": 79,
   "metadata": {},
   "outputs": [
    {
     "data": {
      "text/plain": [
       "Text(0,0.5,'number of observations in %')"
      ]
     },
     "execution_count": 79,
     "metadata": {},
     "output_type": "execute_result"
    },
    {
     "data": {
      "image/png": "[encoded data removed]",
      "text/plain": [
       "<matplotlib.figure.Figure at 0x1c4432d16a0>"
      ]
     },
     "metadata": {},
     "output_type": "display_data"
    }
   ],
   "source": [
    "hist(d_return[1:],bins=10,edgecolor='black')\n",
    "x=linspace(min(d_return[1:]),max(d_return[1:]))\n",
    "plot(x,normpdf(x,mean(d_return[1:]),std(d_return[1:])))\n",
    "grid(True)\n",
    "xlabel('rate of daily returns')\n",
    "ylabel('number of observations in %')"
   ]
  },
  {
   "cell_type": "markdown",
   "metadata": {},
   "source": [
    "### QQ-plot"
   ]
  },
  {
   "cell_type": "code",
   "execution_count": 30,
   "metadata": {},
   "outputs": [
    {
     "data": {
      "image/png": "[encoded data removed]",
      "text/plain": [
       "<matplotlib.figure.Figure at 0x1c4416d1550>"
      ]
     },
     "metadata": {},
     "output_type": "display_data"
    }
   ],
   "source": [
    "sm.qqplot(d_return[1:],line='s')\n",
    "grid(True)"
   ]
  },
  {
   "cell_type": "markdown",
   "metadata": {},
   "source": [
    "### CDF fitting with a normal cdf"
   ]
  },
  {
   "cell_type": "code",
   "execution_count": 80,
   "metadata": {},
   "outputs": [
    {
     "data": {
      "text/plain": [
       "Text(0,0.5,'cumulative probabilities')"
      ]
     },
     "execution_count": 80,
     "metadata": {},
     "output_type": "execute_result"
    },
    {
     "data": {
      "image/png": "[encoded data removed]",
      "text/plain": [
       "<matplotlib.figure.Figure at 0x1c4433586d8>"
      ]
     },
     "metadata": {},
     "output_type": "display_data"
    }
   ],
   "source": [
    "#values\n",
    "x=sort(d_return[1:])\n",
    "y=arange(1,len(x)+1)/len(x)\n",
    "y2=norm.cdf((x-mean(x))/std(x))\n",
    "\n",
    "#plot\n",
    "plot(x,y,'red')\n",
    "plot(x,y2,'blue')\n",
    "grid(True)\n",
    "xlabel('daily returns')\n",
    "ylabel('cumulative probabilities')"
   ]
  },
  {
   "cell_type": "markdown",
   "metadata": {},
   "source": [
    "*The QQ-plot the CDF-plots seem to fit with the normal law. The histogramm do not look well: too many values are focused around 0. So we do not know graphically if the data is normally distributed.*"
   ]
  },
  {
   "cell_type": "markdown",
   "metadata": {},
   "source": [
    "# Berra and Jarque Test"
   ]
  },
  {
   "cell_type": "code",
   "execution_count": 82,
   "metadata": {},
   "outputs": [
    {
     "name": "stdout",
     "output_type": "stream",
     "text": [
      "DescribeResult(nobs=248, minmax=(-0.017732626085653447, 0.033901377647699564), mean=0.00048870216578511658, variance=5.0426073495880763e-05, skewness=0.7162585154728321, kurtosis=2.3643404082211266)\n",
      "0.00710113184611\n",
      "The value of the Bera and Jarque test is: 78.96950963559846\n",
      "True\n",
      "we reject the hypothesis of normality\n"
     ]
    }
   ],
   "source": [
    "print(stats.describe(d_return[1:]))\n",
    "\n",
    "#Descriptive statistics\n",
    "berraj=stats.describe(d_return[1:])\n",
    "\n",
    "meanR=berraj[2]\n",
    "varR=berraj[3]\n",
    "stdR=sqrt(varR)\n",
    "skewnessR=berraj[4]\n",
    "kurtosisR=berraj[5]\n",
    "\n",
    "print(stdR)\n",
    "#Berra and Jarque test\n",
    "n=len(d_return[1:])\n",
    "test=(n/6)*(skewnessR**2)+(n/24)*(kurtosisR**2)\n",
    "chi2quantile=stats.chi2.ppf(0.95,df=2)\n",
    "print('The value of the Bera and Jarque test is:',test)\n",
    "print(test>chi2quantils)\n",
    "print('we reject the hypothesis of normality')"
   ]
  },
  {
   "cell_type": "markdown",
   "metadata": {},
   "source": [
    "*Even if we wanted to accept the hypothesis of normality according to the previous plots; the statistical test makes us reject this hypothesis.*"
   ]
  },
  {
   "cell_type": "markdown",
   "metadata": {},
   "source": [
    "## Calculation of the quantile-99%\n"
   ]
  },
  {
   "cell_type": "code",
   "execution_count": 91,
   "metadata": {},
   "outputs": [
    {
     "name": "stdout",
     "output_type": "stream",
     "text": [
      "The value at risk at 99% is:  -1.603\n"
     ]
    }
   ],
   "source": [
    "print('The value at risk at 99% is: ',(norm.ppf(0.01,meanR,stdR)*100).round(3))"
   ]
  },
  {
   "cell_type": "markdown",
   "metadata": {},
   "source": [
    "# Part.2 : Bootstrap Simulation method"
   ]
  },
  {
   "cell_type": "markdown",
   "metadata": {},
   "source": [
    "Soit R10 le rendement sur 10 jours.\n",
    "On a: 1+R10=(1+R0_1)(1+R1_2)...(1+R9_10)"
   ]
  },
  {
   "cell_type": "markdown",
   "metadata": {},
   "source": [
    "### Bootstrap"
   ]
  },
  {
   "cell_type": "code",
   "execution_count": 88,
   "metadata": {},
   "outputs": [
    {
     "name": "stdout",
     "output_type": "stream",
     "text": [
      "[0.029296919203694705, 0.019879930730922979, 0.027350779312097506, 0.016249246728254674, 0.018892091493424301]\n"
     ]
    }
   ],
   "source": [
    "returnportfolio=[]\n",
    "d_return=d_return[1:]\n",
    "for i in range(10000):\n",
    "    alea_tmp=random.choice(len(d_return),10)#sample with replacement\n",
    "    tmp=1\n",
    "    for j in range(10):\n",
    "        tmp*=(1+d_return[alea_tmp[j]])#applying the function to get the return over 10 days according to the returns per day\n",
    "    returnportfolio.append(tmp-1)\n",
    "print(returnportfolio[:5]) #verification"
   ]
  },
  {
   "cell_type": "markdown",
   "metadata": {},
   "source": [
    "### Calcul de Var99%"
   ]
  },
  {
   "cell_type": "code",
   "execution_count": 92,
   "metadata": {},
   "outputs": [
    {
     "name": "stdout",
     "output_type": "stream",
     "text": [
      "The value at risk at 99% is:  -4.3\n"
     ]
    }
   ],
   "source": [
    "returnportfolio=array(returnportfolio)\n",
    "\n",
    "print('The value at risk at 99% is: ',round(percentile(returnportfolio,1),3)*100)"
   ]
  }
 ],
 "metadata": {
  "kernelspec": {
   "display_name": "Python 3",
   "language": "python",
   "name": "python3"
  },
  "language_info": {
   "codemirror_mode": {
    "name": "ipython",
    "version": 3
   },
   "file_extension": ".py",
   "mimetype": "text/x-python",
   "name": "python",
   "nbconvert_exporter": "python",
   "pygments_lexer": "ipython3",
   "version": "3.6.3"
  }
 },
 "nbformat": 4,
 "nbformat_minor": 2
}
