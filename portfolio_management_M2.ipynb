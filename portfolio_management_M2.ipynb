{
  "nbformat": 4,
  "nbformat_minor": 0,
  "metadata": {
    "colab": {
      "name": "portfolio_management_M2.ipynb",
      "provenance": [],
      "collapsed_sections": [
        "Y5-NQ6XIv6nM",
        "XT62W-_Pv86K",
        "8R26-lGAzpah",
        "HUhSCmL-8EWF",
        "hvq7BNJSJkMi"
      ],
      "toc_visible": true,
      "authorship_tag": "ABX9TyPoJTzkDb9QI6aW13q2Iju2"
    },
    "kernelspec": {
      "name": "python3",
      "display_name": "Python 3"
    }
  },
  "cells": [
    {
      "cell_type": "markdown",
      "metadata": {
        "id": "-wTLftu_ub2E"
      },
      "source": [
        "# Portfolio management - ISF APP"
      ]
    },
    {
      "cell_type": "markdown",
      "metadata": {
        "id": "Y5-NQ6XIv6nM"
      },
      "source": [
        "# Imports"
      ]
    },
    {
      "cell_type": "code",
      "metadata": {
        "colab": {
          "base_uri": "https://localhost:8080/"
        },
        "id": "zMNJrl1YuV1D",
        "outputId": "873f5b7e-c707-4392-c9aa-9e359d6c1ba7"
      },
      "source": [
        "%pylab inline\r\n",
        "\r\n",
        "import pandas as pd\r\n",
        "import pandas_datareader as pdr\r\n",
        "import scipy"
      ],
      "execution_count": 1,
      "outputs": [
        {
          "output_type": "stream",
          "text": [
            "Populating the interactive namespace from numpy and matplotlib\n"
          ],
          "name": "stdout"
        }
      ]
    },
    {
      "cell_type": "markdown",
      "metadata": {
        "id": "XT62W-_Pv86K"
      },
      "source": [
        "# 0. Data importation"
      ]
    },
    {
      "cell_type": "code",
      "metadata": {
        "colab": {
          "base_uri": "https://localhost:8080/",
          "height": 455
        },
        "id": "5vj3k4eFwBtu",
        "outputId": "38eb8ee6-19c3-4e15-c5f2-35f5a09024af"
      },
      "source": [
        "data = pd.DataFrame()\r\n",
        "TickerDax = ['DPW.DE','ALV.DE','BMW.DE','BAS.DE','FME.DE']\r\n",
        "for x in TickerDax :\r\n",
        "    data[x] = pdr.data.DataReader(name = x, data_source = 'yahoo',start = '2017-01-1',end = '2017-12-31')['Close']\r\n",
        "\r\n",
        "data"
      ],
      "execution_count": 2,
      "outputs": [
        {
          "output_type": "execute_result",
          "data": {
            "text/html": [
              "<div>\n",
              "<style scoped>\n",
              "    .dataframe tbody tr th:only-of-type {\n",
              "        vertical-align: middle;\n",
              "    }\n",
              "\n",
              "    .dataframe tbody tr th {\n",
              "        vertical-align: top;\n",
              "    }\n",
              "\n",
              "    .dataframe thead th {\n",
              "        text-align: right;\n",
              "    }\n",
              "</style>\n",
              "<table border=\"1\" class=\"dataframe\">\n",
              "  <thead>\n",
              "    <tr style=\"text-align: right;\">\n",
              "      <th></th>\n",
              "      <th>DPW.DE</th>\n",
              "      <th>ALV.DE</th>\n",
              "      <th>BMW.DE</th>\n",
              "      <th>BAS.DE</th>\n",
              "      <th>FME.DE</th>\n",
              "    </tr>\n",
              "    <tr>\n",
              "      <th>Date</th>\n",
              "      <th></th>\n",
              "      <th></th>\n",
              "      <th></th>\n",
              "      <th></th>\n",
              "      <th></th>\n",
              "    </tr>\n",
              "  </thead>\n",
              "  <tbody>\n",
              "    <tr>\n",
              "      <th>2017-01-02</th>\n",
              "      <td>31.400000</td>\n",
              "      <td>157.300003</td>\n",
              "      <td>89.980003</td>\n",
              "      <td>88.699997</td>\n",
              "      <td>82.199997</td>\n",
              "    </tr>\n",
              "    <tr>\n",
              "      <th>2017-01-03</th>\n",
              "      <td>31.500000</td>\n",
              "      <td>159.550003</td>\n",
              "      <td>90.830002</td>\n",
              "      <td>87.699997</td>\n",
              "      <td>81.260002</td>\n",
              "    </tr>\n",
              "    <tr>\n",
              "      <th>2017-01-04</th>\n",
              "      <td>31.325001</td>\n",
              "      <td>160.399994</td>\n",
              "      <td>90.180000</td>\n",
              "      <td>88.150002</td>\n",
              "      <td>80.870003</td>\n",
              "    </tr>\n",
              "    <tr>\n",
              "      <th>2017-01-05</th>\n",
              "      <td>31.855000</td>\n",
              "      <td>160.699997</td>\n",
              "      <td>90.339996</td>\n",
              "      <td>87.790001</td>\n",
              "      <td>80.540001</td>\n",
              "    </tr>\n",
              "    <tr>\n",
              "      <th>2017-01-06</th>\n",
              "      <td>31.870001</td>\n",
              "      <td>161.100006</td>\n",
              "      <td>90.510002</td>\n",
              "      <td>87.519997</td>\n",
              "      <td>80.599998</td>\n",
              "    </tr>\n",
              "    <tr>\n",
              "      <th>...</th>\n",
              "      <td>...</td>\n",
              "      <td>...</td>\n",
              "      <td>...</td>\n",
              "      <td>...</td>\n",
              "      <td>...</td>\n",
              "    </tr>\n",
              "    <tr>\n",
              "      <th>2017-12-21</th>\n",
              "      <td>40.705002</td>\n",
              "      <td>196.250000</td>\n",
              "      <td>87.839996</td>\n",
              "      <td>93.690002</td>\n",
              "      <td>87.410004</td>\n",
              "    </tr>\n",
              "    <tr>\n",
              "      <th>2017-12-22</th>\n",
              "      <td>40.494999</td>\n",
              "      <td>195.250000</td>\n",
              "      <td>87.519997</td>\n",
              "      <td>93.510002</td>\n",
              "      <td>88.230003</td>\n",
              "    </tr>\n",
              "    <tr>\n",
              "      <th>2017-12-27</th>\n",
              "      <td>40.610001</td>\n",
              "      <td>194.100006</td>\n",
              "      <td>87.260002</td>\n",
              "      <td>93.589996</td>\n",
              "      <td>88.389999</td>\n",
              "    </tr>\n",
              "    <tr>\n",
              "      <th>2017-12-28</th>\n",
              "      <td>40.134998</td>\n",
              "      <td>193.250000</td>\n",
              "      <td>87.139999</td>\n",
              "      <td>92.779999</td>\n",
              "      <td>88.169998</td>\n",
              "    </tr>\n",
              "    <tr>\n",
              "      <th>2017-12-29</th>\n",
              "      <td>39.750000</td>\n",
              "      <td>191.500000</td>\n",
              "      <td>86.830002</td>\n",
              "      <td>91.739998</td>\n",
              "      <td>87.779999</td>\n",
              "    </tr>\n",
              "  </tbody>\n",
              "</table>\n",
              "<p>255 rows × 5 columns</p>\n",
              "</div>"
            ],
            "text/plain": [
              "               DPW.DE      ALV.DE     BMW.DE     BAS.DE     FME.DE\n",
              "Date                                                              \n",
              "2017-01-02  31.400000  157.300003  89.980003  88.699997  82.199997\n",
              "2017-01-03  31.500000  159.550003  90.830002  87.699997  81.260002\n",
              "2017-01-04  31.325001  160.399994  90.180000  88.150002  80.870003\n",
              "2017-01-05  31.855000  160.699997  90.339996  87.790001  80.540001\n",
              "2017-01-06  31.870001  161.100006  90.510002  87.519997  80.599998\n",
              "...               ...         ...        ...        ...        ...\n",
              "2017-12-21  40.705002  196.250000  87.839996  93.690002  87.410004\n",
              "2017-12-22  40.494999  195.250000  87.519997  93.510002  88.230003\n",
              "2017-12-27  40.610001  194.100006  87.260002  93.589996  88.389999\n",
              "2017-12-28  40.134998  193.250000  87.139999  92.779999  88.169998\n",
              "2017-12-29  39.750000  191.500000  86.830002  91.739998  87.779999\n",
              "\n",
              "[255 rows x 5 columns]"
            ]
          },
          "metadata": {
            "tags": []
          },
          "execution_count": 2
        }
      ]
    },
    {
      "cell_type": "markdown",
      "metadata": {
        "id": "8R26-lGAzpah"
      },
      "source": [
        "# 1. Values of interest"
      ]
    },
    {
      "cell_type": "markdown",
      "metadata": {
        "id": "Uzl3ffWb3jUM"
      },
      "source": [
        "### Returns"
      ]
    },
    {
      "cell_type": "code",
      "metadata": {
        "colab": {
          "base_uri": "https://localhost:8080/",
          "height": 424
        },
        "id": "iD3m8U03z8Bz",
        "outputId": "6a1f87eb-3dbc-487b-a7b1-dacfe9f78235"
      },
      "source": [
        "## Daily Returns\r\n",
        "daily_returns = pd.DataFrame( (data.values / data.shift(1).values - ones(data.shape))[1:,:] ) \r\n",
        "daily_returns.columns = data.columns\r\n",
        "daily_returns"
      ],
      "execution_count": 3,
      "outputs": [
        {
          "output_type": "execute_result",
          "data": {
            "text/html": [
              "<div>\n",
              "<style scoped>\n",
              "    .dataframe tbody tr th:only-of-type {\n",
              "        vertical-align: middle;\n",
              "    }\n",
              "\n",
              "    .dataframe tbody tr th {\n",
              "        vertical-align: top;\n",
              "    }\n",
              "\n",
              "    .dataframe thead th {\n",
              "        text-align: right;\n",
              "    }\n",
              "</style>\n",
              "<table border=\"1\" class=\"dataframe\">\n",
              "  <thead>\n",
              "    <tr style=\"text-align: right;\">\n",
              "      <th></th>\n",
              "      <th>DPW.DE</th>\n",
              "      <th>ALV.DE</th>\n",
              "      <th>BMW.DE</th>\n",
              "      <th>BAS.DE</th>\n",
              "      <th>FME.DE</th>\n",
              "    </tr>\n",
              "  </thead>\n",
              "  <tbody>\n",
              "    <tr>\n",
              "      <th>0</th>\n",
              "      <td>0.003185</td>\n",
              "      <td>0.014304</td>\n",
              "      <td>0.009447</td>\n",
              "      <td>-0.011274</td>\n",
              "      <td>-0.011435</td>\n",
              "    </tr>\n",
              "    <tr>\n",
              "      <th>1</th>\n",
              "      <td>-0.005556</td>\n",
              "      <td>0.005327</td>\n",
              "      <td>-0.007156</td>\n",
              "      <td>0.005131</td>\n",
              "      <td>-0.004799</td>\n",
              "    </tr>\n",
              "    <tr>\n",
              "      <th>2</th>\n",
              "      <td>0.016919</td>\n",
              "      <td>0.001870</td>\n",
              "      <td>0.001774</td>\n",
              "      <td>-0.004084</td>\n",
              "      <td>-0.004081</td>\n",
              "    </tr>\n",
              "    <tr>\n",
              "      <th>3</th>\n",
              "      <td>0.000471</td>\n",
              "      <td>0.002489</td>\n",
              "      <td>0.001882</td>\n",
              "      <td>-0.003076</td>\n",
              "      <td>0.000745</td>\n",
              "    </tr>\n",
              "    <tr>\n",
              "      <th>4</th>\n",
              "      <td>-0.008001</td>\n",
              "      <td>-0.004966</td>\n",
              "      <td>-0.007513</td>\n",
              "      <td>0.001600</td>\n",
              "      <td>-0.068114</td>\n",
              "    </tr>\n",
              "    <tr>\n",
              "      <th>...</th>\n",
              "      <td>...</td>\n",
              "      <td>...</td>\n",
              "      <td>...</td>\n",
              "      <td>...</td>\n",
              "      <td>...</td>\n",
              "    </tr>\n",
              "    <tr>\n",
              "      <th>249</th>\n",
              "      <td>-0.001961</td>\n",
              "      <td>0.004607</td>\n",
              "      <td>0.010468</td>\n",
              "      <td>0.006013</td>\n",
              "      <td>-0.000343</td>\n",
              "    </tr>\n",
              "    <tr>\n",
              "      <th>250</th>\n",
              "      <td>-0.005159</td>\n",
              "      <td>-0.005096</td>\n",
              "      <td>-0.003643</td>\n",
              "      <td>-0.001921</td>\n",
              "      <td>0.009381</td>\n",
              "    </tr>\n",
              "    <tr>\n",
              "      <th>251</th>\n",
              "      <td>0.002840</td>\n",
              "      <td>-0.005890</td>\n",
              "      <td>-0.002971</td>\n",
              "      <td>0.000855</td>\n",
              "      <td>0.001813</td>\n",
              "    </tr>\n",
              "    <tr>\n",
              "      <th>252</th>\n",
              "      <td>-0.011697</td>\n",
              "      <td>-0.004379</td>\n",
              "      <td>-0.001375</td>\n",
              "      <td>-0.008655</td>\n",
              "      <td>-0.002489</td>\n",
              "    </tr>\n",
              "    <tr>\n",
              "      <th>253</th>\n",
              "      <td>-0.009593</td>\n",
              "      <td>-0.009056</td>\n",
              "      <td>-0.003557</td>\n",
              "      <td>-0.011209</td>\n",
              "      <td>-0.004423</td>\n",
              "    </tr>\n",
              "  </tbody>\n",
              "</table>\n",
              "<p>254 rows × 5 columns</p>\n",
              "</div>"
            ],
            "text/plain": [
              "       DPW.DE    ALV.DE    BMW.DE    BAS.DE    FME.DE\n",
              "0    0.003185  0.014304  0.009447 -0.011274 -0.011435\n",
              "1   -0.005556  0.005327 -0.007156  0.005131 -0.004799\n",
              "2    0.016919  0.001870  0.001774 -0.004084 -0.004081\n",
              "3    0.000471  0.002489  0.001882 -0.003076  0.000745\n",
              "4   -0.008001 -0.004966 -0.007513  0.001600 -0.068114\n",
              "..        ...       ...       ...       ...       ...\n",
              "249 -0.001961  0.004607  0.010468  0.006013 -0.000343\n",
              "250 -0.005159 -0.005096 -0.003643 -0.001921  0.009381\n",
              "251  0.002840 -0.005890 -0.002971  0.000855  0.001813\n",
              "252 -0.011697 -0.004379 -0.001375 -0.008655 -0.002489\n",
              "253 -0.009593 -0.009056 -0.003557 -0.011209 -0.004423\n",
              "\n",
              "[254 rows x 5 columns]"
            ]
          },
          "metadata": {
            "tags": []
          },
          "execution_count": 3
        }
      ]
    },
    {
      "cell_type": "code",
      "metadata": {
        "colab": {
          "base_uri": "https://localhost:8080/"
        },
        "id": "1SzXBluq4Qkc",
        "outputId": "d43286fa-03f1-4719-d24a-acf9a81f9632"
      },
      "source": [
        "n_days = daily_returns.shape[0]\r\n",
        "mean_returns = n_days * daily_returns.mean().values\r\n",
        "print(mean_returns)"
      ],
      "execution_count": 4,
      "outputs": [
        {
          "output_type": "stream",
          "text": [
            "[ 0.2479976   0.20499064 -0.02391942  0.04486442  0.08014268]\n"
          ],
          "name": "stdout"
        }
      ]
    },
    {
      "cell_type": "markdown",
      "metadata": {
        "id": "-9LNvkBY3lU1"
      },
      "source": [
        "### Variance/covariance"
      ]
    },
    {
      "cell_type": "code",
      "metadata": {
        "colab": {
          "base_uri": "https://localhost:8080/",
          "height": 206
        },
        "id": "s16h6CP2y6vl",
        "outputId": "2b868414-9d95-4834-89ce-f7644ea0aead"
      },
      "source": [
        "## Marginal variances\r\n",
        "var_covar = n_days * daily_returns.cov()\r\n",
        "\r\n",
        "var_covar"
      ],
      "execution_count": 5,
      "outputs": [
        {
          "output_type": "execute_result",
          "data": {
            "text/html": [
              "<div>\n",
              "<style scoped>\n",
              "    .dataframe tbody tr th:only-of-type {\n",
              "        vertical-align: middle;\n",
              "    }\n",
              "\n",
              "    .dataframe tbody tr th {\n",
              "        vertical-align: top;\n",
              "    }\n",
              "\n",
              "    .dataframe thead th {\n",
              "        text-align: right;\n",
              "    }\n",
              "</style>\n",
              "<table border=\"1\" class=\"dataframe\">\n",
              "  <thead>\n",
              "    <tr style=\"text-align: right;\">\n",
              "      <th></th>\n",
              "      <th>DPW.DE</th>\n",
              "      <th>ALV.DE</th>\n",
              "      <th>BMW.DE</th>\n",
              "      <th>BAS.DE</th>\n",
              "      <th>FME.DE</th>\n",
              "    </tr>\n",
              "  </thead>\n",
              "  <tbody>\n",
              "    <tr>\n",
              "      <th>DPW.DE</th>\n",
              "      <td>0.024376</td>\n",
              "      <td>0.011194</td>\n",
              "      <td>0.009907</td>\n",
              "      <td>0.012387</td>\n",
              "      <td>0.009991</td>\n",
              "    </tr>\n",
              "    <tr>\n",
              "      <th>ALV.DE</th>\n",
              "      <td>0.011194</td>\n",
              "      <td>0.016499</td>\n",
              "      <td>0.009791</td>\n",
              "      <td>0.011556</td>\n",
              "      <td>0.007837</td>\n",
              "    </tr>\n",
              "    <tr>\n",
              "      <th>BMW.DE</th>\n",
              "      <td>0.009907</td>\n",
              "      <td>0.009791</td>\n",
              "      <td>0.023518</td>\n",
              "      <td>0.011885</td>\n",
              "      <td>0.007562</td>\n",
              "    </tr>\n",
              "    <tr>\n",
              "      <th>BAS.DE</th>\n",
              "      <td>0.012387</td>\n",
              "      <td>0.011556</td>\n",
              "      <td>0.011885</td>\n",
              "      <td>0.022493</td>\n",
              "      <td>0.010644</td>\n",
              "    </tr>\n",
              "    <tr>\n",
              "      <th>FME.DE</th>\n",
              "      <td>0.009991</td>\n",
              "      <td>0.007837</td>\n",
              "      <td>0.007562</td>\n",
              "      <td>0.010644</td>\n",
              "      <td>0.028850</td>\n",
              "    </tr>\n",
              "  </tbody>\n",
              "</table>\n",
              "</div>"
            ],
            "text/plain": [
              "          DPW.DE    ALV.DE    BMW.DE    BAS.DE    FME.DE\n",
              "DPW.DE  0.024376  0.011194  0.009907  0.012387  0.009991\n",
              "ALV.DE  0.011194  0.016499  0.009791  0.011556  0.007837\n",
              "BMW.DE  0.009907  0.009791  0.023518  0.011885  0.007562\n",
              "BAS.DE  0.012387  0.011556  0.011885  0.022493  0.010644\n",
              "FME.DE  0.009991  0.007837  0.007562  0.010644  0.028850"
            ]
          },
          "metadata": {
            "tags": []
          },
          "execution_count": 5
        }
      ]
    },
    {
      "cell_type": "code",
      "metadata": {
        "colab": {
          "base_uri": "https://localhost:8080/",
          "height": 206
        },
        "id": "6IKUW9Jn3soE",
        "outputId": "29b8000a-cda4-4c33-bf5b-32b55803a966"
      },
      "source": [
        "inv_var_covar = pd.DataFrame(inv(var_covar))\r\n",
        "inv_var_covar"
      ],
      "execution_count": 6,
      "outputs": [
        {
          "output_type": "execute_result",
          "data": {
            "text/html": [
              "<div>\n",
              "<style scoped>\n",
              "    .dataframe tbody tr th:only-of-type {\n",
              "        vertical-align: middle;\n",
              "    }\n",
              "\n",
              "    .dataframe tbody tr th {\n",
              "        vertical-align: top;\n",
              "    }\n",
              "\n",
              "    .dataframe thead th {\n",
              "        text-align: right;\n",
              "    }\n",
              "</style>\n",
              "<table border=\"1\" class=\"dataframe\">\n",
              "  <thead>\n",
              "    <tr style=\"text-align: right;\">\n",
              "      <th></th>\n",
              "      <th>0</th>\n",
              "      <th>1</th>\n",
              "      <th>2</th>\n",
              "      <th>3</th>\n",
              "      <th>4</th>\n",
              "    </tr>\n",
              "  </thead>\n",
              "  <tbody>\n",
              "    <tr>\n",
              "      <th>0</th>\n",
              "      <td>67.567653</td>\n",
              "      <td>-26.714440</td>\n",
              "      <td>-6.509130</td>\n",
              "      <td>-16.008987</td>\n",
              "      <td>-8.528979</td>\n",
              "    </tr>\n",
              "    <tr>\n",
              "      <th>1</th>\n",
              "      <td>-26.714440</td>\n",
              "      <td>114.599247</td>\n",
              "      <td>-18.697315</td>\n",
              "      <td>-31.806937</td>\n",
              "      <td>-5.241527</td>\n",
              "    </tr>\n",
              "    <tr>\n",
              "      <th>2</th>\n",
              "      <td>-6.509130</td>\n",
              "      <td>-18.697315</td>\n",
              "      <td>63.521721</td>\n",
              "      <td>-19.340425</td>\n",
              "      <td>-2.181622</td>\n",
              "    </tr>\n",
              "    <tr>\n",
              "      <th>3</th>\n",
              "      <td>-16.008987</td>\n",
              "      <td>-31.806937</td>\n",
              "      <td>-19.340425</td>\n",
              "      <td>85.686212</td>\n",
              "      <td>-12.361422</td>\n",
              "    </tr>\n",
              "    <tr>\n",
              "      <th>4</th>\n",
              "      <td>-8.528979</td>\n",
              "      <td>-5.241527</td>\n",
              "      <td>-2.181622</td>\n",
              "      <td>-12.361422</td>\n",
              "      <td>44.171792</td>\n",
              "    </tr>\n",
              "  </tbody>\n",
              "</table>\n",
              "</div>"
            ],
            "text/plain": [
              "           0           1          2          3          4\n",
              "0  67.567653  -26.714440  -6.509130 -16.008987  -8.528979\n",
              "1 -26.714440  114.599247 -18.697315 -31.806937  -5.241527\n",
              "2  -6.509130  -18.697315  63.521721 -19.340425  -2.181622\n",
              "3 -16.008987  -31.806937 -19.340425  85.686212 -12.361422\n",
              "4  -8.528979   -5.241527  -2.181622 -12.361422  44.171792"
            ]
          },
          "metadata": {
            "tags": []
          },
          "execution_count": 6
        }
      ]
    },
    {
      "cell_type": "code",
      "metadata": {
        "colab": {
          "base_uri": "https://localhost:8080/",
          "height": 81
        },
        "id": "BAYTE7AH4jBM",
        "outputId": "ee590b9c-8922-4dde-9f5c-9043d2ccf3cf"
      },
      "source": [
        "tmp_var_covar = var_covar.values\r\n",
        "marginal_variances = pd.DataFrame([ tmp_var_covar[i, i] for i in range(len(tmp_var_covar)) ]).transpose()\r\n",
        "marginal_variances.columns = var_covar.columns\r\n",
        "del tmp_var_covar\r\n",
        "\r\n",
        "marginal_variances"
      ],
      "execution_count": 7,
      "outputs": [
        {
          "output_type": "execute_result",
          "data": {
            "text/html": [
              "<div>\n",
              "<style scoped>\n",
              "    .dataframe tbody tr th:only-of-type {\n",
              "        vertical-align: middle;\n",
              "    }\n",
              "\n",
              "    .dataframe tbody tr th {\n",
              "        vertical-align: top;\n",
              "    }\n",
              "\n",
              "    .dataframe thead th {\n",
              "        text-align: right;\n",
              "    }\n",
              "</style>\n",
              "<table border=\"1\" class=\"dataframe\">\n",
              "  <thead>\n",
              "    <tr style=\"text-align: right;\">\n",
              "      <th></th>\n",
              "      <th>DPW.DE</th>\n",
              "      <th>ALV.DE</th>\n",
              "      <th>BMW.DE</th>\n",
              "      <th>BAS.DE</th>\n",
              "      <th>FME.DE</th>\n",
              "    </tr>\n",
              "  </thead>\n",
              "  <tbody>\n",
              "    <tr>\n",
              "      <th>0</th>\n",
              "      <td>0.024376</td>\n",
              "      <td>0.016499</td>\n",
              "      <td>0.023518</td>\n",
              "      <td>0.022493</td>\n",
              "      <td>0.02885</td>\n",
              "    </tr>\n",
              "  </tbody>\n",
              "</table>\n",
              "</div>"
            ],
            "text/plain": [
              "     DPW.DE    ALV.DE    BMW.DE    BAS.DE   FME.DE\n",
              "0  0.024376  0.016499  0.023518  0.022493  0.02885"
            ]
          },
          "metadata": {
            "tags": []
          },
          "execution_count": 7
        }
      ]
    },
    {
      "cell_type": "code",
      "metadata": {
        "colab": {
          "base_uri": "https://localhost:8080/",
          "height": 81
        },
        "id": "Mnz24zfz7Bnt",
        "outputId": "6d25c1e2-faeb-413b-c2a5-5d8271e1dec4"
      },
      "source": [
        "tmp_marginal_variances = marginal_variances.values\r\n",
        "standard_deviations = pd.DataFrame( sqrt(tmp_marginal_variances) )\r\n",
        "standard_deviations.columns = marginal_variances.columns\r\n",
        "del tmp_marginal_variances\r\n",
        "\r\n",
        "standard_deviations"
      ],
      "execution_count": 8,
      "outputs": [
        {
          "output_type": "execute_result",
          "data": {
            "text/html": [
              "<div>\n",
              "<style scoped>\n",
              "    .dataframe tbody tr th:only-of-type {\n",
              "        vertical-align: middle;\n",
              "    }\n",
              "\n",
              "    .dataframe tbody tr th {\n",
              "        vertical-align: top;\n",
              "    }\n",
              "\n",
              "    .dataframe thead th {\n",
              "        text-align: right;\n",
              "    }\n",
              "</style>\n",
              "<table border=\"1\" class=\"dataframe\">\n",
              "  <thead>\n",
              "    <tr style=\"text-align: right;\">\n",
              "      <th></th>\n",
              "      <th>DPW.DE</th>\n",
              "      <th>ALV.DE</th>\n",
              "      <th>BMW.DE</th>\n",
              "      <th>BAS.DE</th>\n",
              "      <th>FME.DE</th>\n",
              "    </tr>\n",
              "  </thead>\n",
              "  <tbody>\n",
              "    <tr>\n",
              "      <th>0</th>\n",
              "      <td>0.156128</td>\n",
              "      <td>0.128447</td>\n",
              "      <td>0.153356</td>\n",
              "      <td>0.149975</td>\n",
              "      <td>0.169853</td>\n",
              "    </tr>\n",
              "  </tbody>\n",
              "</table>\n",
              "</div>"
            ],
            "text/plain": [
              "     DPW.DE    ALV.DE    BMW.DE    BAS.DE    FME.DE\n",
              "0  0.156128  0.128447  0.153356  0.149975  0.169853"
            ]
          },
          "metadata": {
            "tags": []
          },
          "execution_count": 8
        }
      ]
    },
    {
      "cell_type": "markdown",
      "metadata": {
        "id": "HUhSCmL-8EWF"
      },
      "source": [
        "# 2. Markowitz framework parameters"
      ]
    },
    {
      "cell_type": "code",
      "metadata": {
        "colab": {
          "base_uri": "https://localhost:8080/"
        },
        "id": "Kl3KUMlr8I9c",
        "outputId": "f85d9667-42c9-4f3c-c2bb-71870e1226b0"
      },
      "source": [
        "ones_d = ones(data.shape[1])\r\n",
        "\r\n",
        "# Params of the best portfolio\r\n",
        "a = ones_d.T.dot(inv_var_covar).dot(ones_d) #1d' S-1 1d\r\n",
        "b = mean_returns.T.dot(inv_var_covar).dot(ones_d) #R' S-1 1d\r\n",
        "\r\n",
        "# Mean/sd of the best portfolio (a,b)\r\n",
        "sd_star = 1/sqrt(a)\r\n",
        "mean_star = b/a\r\n",
        "\r\n",
        "print('Expected return of the minimum variance portfolio in %')\r\n",
        "print(100 * mean_star)\r\n",
        "print('Its standard deviation in %')\r\n",
        "print(100 * sd_star)"
      ],
      "execution_count": 13,
      "outputs": [
        {
          "output_type": "stream",
          "text": [
            "Expected return of the minimum variance portfolio in %\n",
            "12.587219585783954\n",
            "Its standard deviation in %\n",
            "11.12726048763086\n"
          ],
          "name": "stdout"
        }
      ]
    },
    {
      "cell_type": "code",
      "metadata": {
        "colab": {
          "base_uri": "https://localhost:8080/",
          "height": 1000
        },
        "id": "8iTuu_KMJZxz",
        "outputId": "087ea9c0-ae33-43b2-a840-d19eb375bcd7"
      },
      "source": [
        "figure(figsize = (20, 20) )\r\n",
        "\r\n",
        "#asset values\r\n",
        "scatter(standard_deviations, mean_returns, alpha=0.7) \r\n",
        "\r\n",
        "#x\r\n",
        "lower_bound = min(mean_returns) - 0.05\r\n",
        "upper_bound = max(mean_returns) + 0.35\r\n",
        "x = linspace(lower_bound , upper_bound, 50)\r\n",
        "\r\n",
        "#Efficient frontier\r\n",
        "m_w = sqrt( (mean_returns - b/a).T.dot( (inv_var_covar) ).dot( (mean_returns - b/a) ) )\r\n",
        "frontier = sqrt( ((x - mean_star)/m_w)**2 + sd_star**2 )\r\n",
        "\r\n",
        "#Asymptotic line of the frontier\r\n",
        "a_line = (x - b/a)/m_w\r\n",
        "\r\n",
        "#Capital market line\r\n",
        "r0 = 0 # risk free rate\r\n",
        "m_r = sqrt( (mean_returns - r0).T.dot( (inv_var_covar) ).dot( (mean_returns - r0) ) )\r\n",
        "CML = (x - r0)/m_r\r\n",
        "\r\n",
        "#Plot\r\n",
        "plot(frontier, x, alpha=1) \r\n",
        "plot(a_line, x, alpha=1)  # on graph l'Asymptote\r\n",
        "plot(CML, x, alpha=1) # on graph la Capital Market Line \r\n",
        "legend(['Frontier','Asymptot','Capital Market Line' ], loc=2)\r\n",
        "grid(True)\r\n",
        "xlabel('Annualised standard deviation')\r\n",
        "ylabel('Annualised return')\r\n",
        "show()"
      ],
      "execution_count": 14,
      "outputs": [
        {
          "output_type": "display_data",
          "data": {
            "image/png": "[encoded data removed]",
            "text/plain": [
              "<Figure size 1440x1440 with 1 Axes>"
            ]
          },
          "metadata": {
            "tags": [],
            "needs_background": "light"
          }
        }
      ]
    },
    {
      "cell_type": "markdown",
      "metadata": {
        "id": "MHvbUuZtI1op"
      },
      "source": [
        "# 3. Exercise"
      ]
    },
    {
      "cell_type": "markdown",
      "metadata": {
        "id": "hvq7BNJSJkMi"
      },
      "source": [
        "## 3.1 Markowitz & optimal allocations"
      ]
    },
    {
      "cell_type": "markdown",
      "metadata": {
        "id": "OhPa1w7GJq4c"
      },
      "source": [
        "q.1 According to the Markowitz theory **without** a risk-free asset, if we want an annual return of 15%, what is the optimal allocation ?\r\n",
        "\r\n",
        "q.2 According to the Markowitz theory **with** a risk-free asset (with 0-return), if we want an annual return of 15%, what is the optimal allocation ?"
      ]
    },
    {
      "cell_type": "markdown",
      "metadata": {
        "id": "ac1RYleSKeeQ"
      },
      "source": [
        "**q.1**\r\n",
        "\r\n",
        "Let's recall that the problem to solve is :\r\n",
        "\r\n",
        "$$(P) \\left \\{\r\n",
        "  \\begin{array}{l1}\r\n",
        "    min_{\\pi \\in \\mathbf{R}^{d}} ||\\pi||_{\\Sigma^{-1}} \\\\\r\n",
        "    <\\pi,M> = m \\\\\r\n",
        "    <pi, 1_d> = 1 \r\n",
        "  \\end{array}\r\n",
        "  \\right.\r\n",
        "$$\r\n",
        "\r\n",
        "That is to say the **investment** portfolio with **fixed return**, of **min variance**.\r\n",
        "\r\n",
        "The solutions are given by :\r\n",
        "\r\n",
        "$$ \\mathbf{F} := \\{ \\pi_a + \\lambda \\omega_{a,b} \\} $$\r\n",
        "\r\n",
        "With :\r\n",
        "\r\n",
        "M the expected return of the assets\r\n",
        "\r\n",
        "$$ \r\n",
        "\r\n",
        "a := <1_{d}, 1_{d}>_{\\Sigma^{-1}} \\\\\r\n",
        "b := <M, 1_{d}>_{\\Sigma^{-1}} \\\\\r\n",
        "\\pi_a := \\frac{1}{a} \\Sigma^{-1} 1_{d} \\\\\r\n",
        "\\omega_{a,b} := \\frac {\\Sigma^{-1}(M - \\frac{b}{a} 1_d)} {||M - \\frac{b}{a} 1_d||_{\\Sigma^{-1}} }\r\n",
        "\r\n",
        "$$\r\n",
        "\r\n",
        "So at least we have computed all of theprevious quantities, we have an estimation of M so the only uknown is $\\lambda$ and we have to resolve :\r\n",
        "\r\n",
        "$$ \r\n",
        "\\pi'M = 15\\%, \\pi \\in \\mathbf{F} \\\\\r\n",
        "\\Leftrightarrow \\\\\r\n",
        "(\\pi_a + \\lambda \\omega_{a,b})'M = 15\\% \\\\\r\n",
        "\\Leftrightarrow \\\\\r\n",
        "\\lambda = (\\omega_{a,b}'M)^{-1}(15\\% - \\pi_{a}'M)\r\n",
        "$$\r\n",
        "\r\n",
        "And we get the alocation by the relation :\r\n",
        "$$ \\{ \\pi_a + \\lambda \\omega_{a,b} \\} $$\r\n",
        "\r\n"
      ]
    },
    {
      "cell_type": "code",
      "metadata": {
        "id": "QqKjv3UCSjEy"
      },
      "source": [
        "def markowitz_woRiskFreeAsset(wanted_return, expected_returns = mean_returns, a = a, b = b, inv_var_covar = inv_var_covar):\r\n",
        "  ones_d = ones(inv_var_covar.shape[0])\r\n",
        "  pi_a = 1/a * inv_var_covar.dot(ones_d)\r\n",
        "  tmp = expected_returns - b/a*ones_d\r\n",
        "  omega_a_b = inv_var_covar.dot( tmp / (tmp.T.dot(inv_var_covar).dot(tmp))**(1/2) )\r\n",
        "  Lambda = 1/(omega_a_b.T.dot(expected_returns)) * (wanted_return - pi_a.T.dot(expected_returns))\r\n",
        "  output = pi_a + Lambda * omega_a_b\r\n",
        "  assert round(output.T.dot(expected_returns), 3) == round(wanted_return, 3), \"Problem: the computed output has a return <> of the wanted one, its return :\" + str(output.T.dot(expected_returns))\r\n",
        "  assert round(output.dot(ones_d), 1) == 1, 'Your potfolio is not an investment portfolio'\r\n",
        "  print(\"lambda value (argmax):\")\r\n",
        "  print(Lambda)\r\n",
        "  print(\"best alocation:\")\r\n",
        "  print(output)\r\n",
        "  #return output, Lambda"
      ],
      "execution_count": 44,
      "outputs": []
    },
    {
      "cell_type": "code",
      "metadata": {
        "colab": {
          "base_uri": "https://localhost:8080/"
        },
        "id": "4aj2dEeVI0kW",
        "outputId": "1b5b0c6d-13e1-4625-992b-391701154178"
      },
      "source": [
        "markowitz_woRiskFreeAsset(15/100)"
      ],
      "execution_count": 47,
      "outputs": [
        {
          "output_type": "stream",
          "text": [
            "lambda value (argmax):\n",
            "0.011721724539916791\n",
            "best alocation:\n",
            "0    0.171528\n",
            "1    0.462973\n",
            "2    0.150282\n",
            "3    0.031100\n",
            "4    0.184118\n",
            "dtype: float64\n"
          ],
          "name": "stdout"
        }
      ]
    },
    {
      "cell_type": "markdown",
      "metadata": {
        "id": "MyNNiXTNXoBD"
      },
      "source": [
        "**q.2**\r\n",
        "\r\n",
        "The new problem to solve is :\r\n",
        "\r\n",
        "$$\r\n",
        "(Q) \\left \\{\r\n",
        "  \\begin{array}{l1}\r\n",
        "    min_{\\pi \\in \\mathbf{R}^{d}} ||\\pi||_{\\Sigma^{-1}} \\\\\r\n",
        "    r_{0}  + \\pi'(M-r_{0}1_{d}) = m\r\n",
        "  \\end{array}\r\n",
        "  \\right.\r\n",
        "$$\r\n",
        "\r\n",
        "According to the separation theorem, the solutions are given by\r\n",
        "\r\n",
        "$$\r\n",
        "\\beta \\Pi_{T} + (1 - \\beta) \\Pi_{0} \\\\\r\n",
        "\\beta = \\frac{ m - r_{0} }{ m_{T} - r_{0} } \\\\\r\n",
        "\\Pi_{0} = \\begin{bmatrix} 1 \\\\ 0 \\end{bmatrix} \\\\\r\n",
        "\\Pi_{T} = \\begin{bmatrix} 0 \\\\ \\pi_{T} \\end{bmatrix} \\\\\r\n",
        "\\pi_{T} = \\frac{1}{b-r_{0}a} \\Sigma^{-1} (M - r_{0} 1_{d} ) \\\\\r\n",
        "m_{T} = r_{0} + \\frac{1}{b-r_{0}a} || M - r_{0}1_{d} ||^{2}_{\\Sigma^{-1}}\r\n",
        "$$\r\n",
        "\r\n",
        "With the same notations as before except for $r_{0}$ risk-free asset return and $m_{T}$ : the return of the risky part of the portfolio."
      ]
    },
    {
      "cell_type": "code",
      "metadata": {
        "id": "buRXASaOcaWb"
      },
      "source": [
        "def markowitz_withRiskFreeAsset(wanted_return, r0 = 0, expected_returns = mean_returns,a = a, b = b, inv_var_covar = inv_var_covar):\r\n",
        "  ones_d = ones(inv_var_covar.shape[0])\r\n",
        "  tmp = mean_returns - r0*ones_d\r\n",
        "  coeff = 1/(b - r0*a)\r\n",
        "  m_T = r0 +  coeff * tmp.T.dot(inv_var_covar).dot(tmp)\r\n",
        "  pi_T = coeff * inv_var_covar.dot(tmp)\r\n",
        "  beta = (wanted_return - r0)/(m_T - r0)\r\n",
        "  output = zeros( pi_T.shape[0] + 1)\r\n",
        "  output[0] = 1 - beta\r\n",
        "  output[1:] = beta * pi_T\r\n",
        "  assert round(sum(pi_T), 0) == 1, \"The risky allocation is not an investment allocation\"\r\n",
        "  assert round((1-beta)*r0 + beta*pi_T.T.dot(tmp), 3) == round(wanted_return, 3), \"The allocation does not have the wanted return\"\r\n",
        "  print(\"Allocation :\")\r\n",
        "  print(output)\r\n",
        "  #return output"
      ],
      "execution_count": 68,
      "outputs": []
    },
    {
      "cell_type": "code",
      "metadata": {
        "colab": {
          "base_uri": "https://localhost:8080/"
        },
        "id": "IBIcMSklkWbN",
        "outputId": "e53fe331-d5d3-479a-c199-9641f76582a1"
      },
      "source": [
        "markowitz_withRiskFreeAsset(15/100)"
      ],
      "execution_count": 69,
      "outputs": [
        {
          "output_type": "stream",
          "text": [
            "Allocation :\n",
            "[ 0.72357614  0.27284164  0.42055532 -0.21777025 -0.19507013 -0.00413271]\n"
          ],
          "name": "stdout"
        }
      ]
    },
    {
      "cell_type": "markdown",
      "metadata": {
        "id": "okS28d-bnInp"
      },
      "source": [
        "28% in the risk-free asset, 72% * (27%, 42%, -21%, -19%, -0.4%) in the risky assets."
      ]
    },
    {
      "cell_type": "markdown",
      "metadata": {
        "id": "le2nQWuknZpy"
      },
      "source": [
        "## 3.2. Markowitz under constraints"
      ]
    },
    {
      "cell_type": "markdown",
      "metadata": {
        "id": "zcn8mYCvnf1o"
      },
      "source": [
        ""
      ]
    }
  ]
}