{
 "cells": [
  {
   "cell_type": "code",
   "execution_count": 1,
   "metadata": {},
   "outputs": [
    {
     "name": "stdout",
     "output_type": "stream",
     "text": [
      "Populating the interactive namespace from numpy and matplotlib\n"
     ]
    }
   ],
   "source": [
    "%pylab inline"
   ]
  },
  {
   "cell_type": "code",
   "execution_count": 2,
   "metadata": {
    "collapsed": true
   },
   "outputs": [],
   "source": [
    "from scipy.stats import norm"
   ]
  },
  {
   "cell_type": "markdown",
   "metadata": {},
   "source": [
    "# Calcul des prix dans le modèle CRR"
   ]
  },
  {
   "cell_type": "code",
   "execution_count": 26,
   "metadata": {
    "collapsed": true
   },
   "outputs": [],
   "source": [
    "#n:nbre de periodes\n",
    "#S0:actif sans risque\n",
    "#K:strike\n",
    "#r:taux d'interet sans risque\n",
    "#T:horizon de temps\n",
    "#u,d: facteurs du modele\n",
    "\n",
    "def CRR(n,S0,K,r,T,u,d):\n",
    "    \n",
    "    delta=T/n #pas de temps\n",
    "    q=(exp(r*delta)-d)/(u-d) #proba neutre au risque\n",
    "    \n",
    "    S_T=[max(S0*(u**k)*(d**(n-k))-K,0)for k in range(n+1)] #branche terminale\n",
    "    \n",
    "    OUTPUT=[]#Futur arbre des prix actualises\n",
    "    OUTPUT.append(S_T)\n",
    "    \n",
    "    #Recurrence decroissante\n",
    "    for i in range(n):\n",
    "        \n",
    "        tmp=OUTPUT[i]\n",
    "        \n",
    "        OUTPUT.append([exp(-r*delta)*((1-q)*tmp[j]+q*tmp[j+1])for j in range(len(tmp)-1)]) #branche n-1-i\n",
    "        \n",
    "    return OUTPUT\n",
    "    "
   ]
  },
  {
   "cell_type": "markdown",
   "metadata": {},
   "source": [
    "# Calcul des prix dans le modèle JR"
   ]
  },
  {
   "cell_type": "code",
   "execution_count": 27,
   "metadata": {
    "collapsed": true
   },
   "outputs": [],
   "source": [
    "#S0:actif sans risque\n",
    "#T:periode de temps\n",
    "#K:strike\n",
    "#sigma:variance\n",
    "#r:taux d'interet sans risque\n",
    "#n:nbre de periodes\n",
    "\n",
    "def JR(n,S0=50,T=1,K=50,sigma=0.1,r=0.3):\n",
    "    \n",
    "    delta=T/n\n",
    "    \n",
    "    u=exp(sigma*sqrt(delta))\n",
    "    d=exp(-sigma*sqrt(delta))\n",
    "    \n",
    "    return CRR(n,S0,K,r,T,u,d)\n",
    "   "
   ]
  },
  {
   "cell_type": "code",
   "execution_count": 28,
   "metadata": {},
   "outputs": [],
   "source": [
    "#JR(10)"
   ]
  },
  {
   "cell_type": "code",
   "execution_count": 29,
   "metadata": {},
   "outputs": [
    {
     "name": "stdout",
     "output_type": "stream",
     "text": [
      "Prix initial pour n=10:  [12.95908911726608]\n",
      "Prix initial pour n=20:  [12.959297541310406]\n",
      "Prix initial pour n=30:  [12.959584558212466]\n",
      "Prix initial pour n=50:  [12.959942641314862]\n",
      "Prix initial pour n=100:  [12.96029719304577]\n"
     ]
    }
   ],
   "source": [
    "#TETS\n",
    "print('Prix initial pour n=10: ',JR(10)[10])\n",
    "print('Prix initial pour n=20: ',JR(20)[20])\n",
    "print('Prix initial pour n=30: ',JR(30)[30])\n",
    "print('Prix initial pour n=50: ',JR(50)[50])\n",
    "print('Prix initial pour n=100: ',JR(100)[100])"
   ]
  },
  {
   "cell_type": "markdown",
   "metadata": {},
   "source": [
    "# Calcul de Cbs()"
   ]
  },
  {
   "cell_type": "code",
   "execution_count": 32,
   "metadata": {
    "collapsed": true
   },
   "outputs": [],
   "source": [
    "def Cbs(S0=50,T=1,K=50,sigma=0.1,r=0.3):\n",
    "    \n",
    "    d1=(log(S0/K)+(r-sigma**2/2)*T)/(sigma*sqrt(T))\n",
    "    d2=d1-sigma*sqrt(T)\n",
    "    \n",
    "    return(S0*norm.cdf(d1)-exp(-r*T)*K*norm.cdf(d2))"
   ]
  },
  {
   "cell_type": "code",
   "execution_count": 33,
   "metadata": {},
   "outputs": [
    {
     "data": {
      "text/plain": [
       "12.960615487321249"
      ]
     },
     "execution_count": 33,
     "metadata": {},
     "output_type": "execute_result"
    }
   ],
   "source": [
    "Cbs()"
   ]
  }
 ],
 "metadata": {
  "kernelspec": {
   "display_name": "Python 3",
   "language": "python",
   "name": "python3"
  },
  "language_info": {
   "codemirror_mode": {
    "name": "ipython",
    "version": 3
   },
   "file_extension": ".py",
   "mimetype": "text/x-python",
   "name": "python",
   "nbconvert_exporter": "python",
   "pygments_lexer": "ipython3",
   "version": "3.6.3"
  }
 },
 "nbformat": 4,
 "nbformat_minor": 2
}
